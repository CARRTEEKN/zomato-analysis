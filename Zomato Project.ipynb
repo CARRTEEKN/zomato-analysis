{
 "cells": [
  {
   "cell_type": "code",
   "execution_count": 5,
   "id": "d4ca4066-f854-4d5d-a8e6-560be40acc9b",
   "metadata": {},
   "outputs": [
    {
     "name": "stdout",
     "output_type": "stream",
     "text": [
      "Requirement already satisfied: numpy in c:\\users\\dell\\anaconda3\\lib\\site-packages (2.1.2)\n",
      "Note: you may need to restart the kernel to use updated packages.\n"
     ]
    }
   ],
   "source": [
    "pip install numpy\n",
    "\n"
   ]
  },
  {
   "cell_type": "code",
   "execution_count": 1,
   "id": "0259d8d0-cb60-4320-89a6-44b2b9098d48",
   "metadata": {},
   "outputs": [
    {
     "name": "stdout",
     "output_type": "stream",
     "text": [
      "Requirement already satisfied: pandas in c:\\users\\dell\\appdata\\roaming\\python\\python312\\site-packages (2.2.2)\n",
      "Requirement already satisfied: numpy>=1.26.0 in c:\\users\\dell\\anaconda3\\lib\\site-packages (from pandas) (2.1.2)\n",
      "Requirement already satisfied: python-dateutil>=2.8.2 in c:\\users\\dell\\appdata\\roaming\\python\\python312\\site-packages (from pandas) (2.9.0.post0)\n",
      "Requirement already satisfied: pytz>=2020.1 in c:\\users\\dell\\appdata\\roaming\\python\\python312\\site-packages (from pandas) (2024.1)\n",
      "Requirement already satisfied: tzdata>=2022.7 in c:\\users\\dell\\appdata\\roaming\\python\\python312\\site-packages (from pandas) (2024.1)\n",
      "Requirement already satisfied: six>=1.5 in c:\\users\\dell\\appdata\\roaming\\python\\python312\\site-packages (from python-dateutil>=2.8.2->pandas) (1.16.0)\n",
      "Note: you may need to restart the kernel to use updated packages.\n"
     ]
    }
   ],
   "source": [
    "pip install pandas"
   ]
  },
  {
   "cell_type": "code",
   "execution_count": 1,
   "id": "e0adb327-6e02-41e8-82fd-d38e9d02e4c8",
   "metadata": {},
   "outputs": [
    {
     "name": "stdout",
     "output_type": "stream",
     "text": [
      "Requirement already satisfied: matplotlib in c:\\users\\dell\\anaconda3\\lib\\site-packages (3.8.4)\n",
      "Requirement already satisfied: contourpy>=1.0.1 in c:\\users\\dell\\anaconda3\\lib\\site-packages (from matplotlib) (1.2.0)\n",
      "Requirement already satisfied: cycler>=0.10 in c:\\users\\dell\\anaconda3\\lib\\site-packages (from matplotlib) (0.11.0)\n",
      "Requirement already satisfied: fonttools>=4.22.0 in c:\\users\\dell\\anaconda3\\lib\\site-packages (from matplotlib) (4.51.0)\n",
      "Requirement already satisfied: kiwisolver>=1.3.1 in c:\\users\\dell\\anaconda3\\lib\\site-packages (from matplotlib) (1.4.4)\n",
      "Requirement already satisfied: numpy>=1.21 in c:\\users\\dell\\anaconda3\\lib\\site-packages (from matplotlib) (2.1.2)\n",
      "Requirement already satisfied: packaging>=20.0 in c:\\users\\dell\\appdata\\roaming\\python\\python312\\site-packages (from matplotlib) (24.1)\n",
      "Requirement already satisfied: pillow>=8 in c:\\users\\dell\\appdata\\roaming\\python\\python312\\site-packages (from matplotlib) (10.4.0)\n",
      "Requirement already satisfied: pyparsing>=2.3.1 in c:\\users\\dell\\appdata\\roaming\\python\\python312\\site-packages (from matplotlib) (3.1.2)\n",
      "Requirement already satisfied: python-dateutil>=2.7 in c:\\users\\dell\\appdata\\roaming\\python\\python312\\site-packages (from matplotlib) (2.9.0.post0)\n",
      "Collecting numpy>=1.21 (from matplotlib)\n",
      "  Using cached numpy-1.26.4-cp312-cp312-win_amd64.whl.metadata (61 kB)\n",
      "Requirement already satisfied: six>=1.5 in c:\\users\\dell\\appdata\\roaming\\python\\python312\\site-packages (from python-dateutil>=2.7->matplotlib) (1.16.0)\n",
      "Downloading numpy-1.26.4-cp312-cp312-win_amd64.whl (15.5 MB)\n",
      "   ---------------------------------------- 0.0/15.5 MB ? eta -:--:--\n",
      "   ---------------------------------------- 0.0/15.5 MB ? eta -:--:--\n",
      "   ---------------------------------------- 0.0/15.5 MB ? eta -:--:--\n",
      "   ---------------------------------------- 0.0/15.5 MB ? eta -:--:--\n",
      "   ---------------------------------------- 0.0/15.5 MB 259.2 kB/s eta 0:01:00\n",
      "   ---------------------------------------- 0.0/15.5 MB 217.9 kB/s eta 0:01:12\n",
      "   ---------------------------------------- 0.1/15.5 MB 351.4 kB/s eta 0:00:44\n",
      "   ---------------------------------------- 0.1/15.5 MB 435.7 kB/s eta 0:00:36\n",
      "   ---------------------------------------- 0.1/15.5 MB 450.6 kB/s eta 0:00:35\n",
      "   ---------------------------------------- 0.1/15.5 MB 425.3 kB/s eta 0:00:37\n",
      "   ---------------------------------------- 0.2/15.5 MB 455.1 kB/s eta 0:00:34\n",
      "   ---------------------------------------- 0.2/15.5 MB 455.1 kB/s eta 0:00:34\n",
      "    --------------------------------------- 0.2/15.5 MB 380.0 kB/s eta 0:00:41\n",
      "    --------------------------------------- 0.2/15.5 MB 377.1 kB/s eta 0:00:41\n",
      "    --------------------------------------- 0.2/15.5 MB 406.8 kB/s eta 0:00:38\n",
      "    --------------------------------------- 0.3/15.5 MB 436.5 kB/s eta 0:00:35\n",
      "    --------------------------------------- 0.3/15.5 MB 441.9 kB/s eta 0:00:35\n",
      "    --------------------------------------- 0.3/15.5 MB 441.9 kB/s eta 0:00:35\n",
      "    --------------------------------------- 0.3/15.5 MB 431.9 kB/s eta 0:00:36\n",
      "    --------------------------------------- 0.3/15.5 MB 431.9 kB/s eta 0:00:36\n",
      "    --------------------------------------- 0.3/15.5 MB 395.3 kB/s eta 0:00:39\n",
      "    --------------------------------------- 0.4/15.5 MB 390.8 kB/s eta 0:00:39\n",
      "    --------------------------------------- 0.4/15.5 MB 388.7 kB/s eta 0:00:39\n",
      "   - -------------------------------------- 0.4/15.5 MB 384.6 kB/s eta 0:00:40\n",
      "   - -------------------------------------- 0.4/15.5 MB 387.0 kB/s eta 0:00:40\n",
      "   - -------------------------------------- 0.4/15.5 MB 379.6 kB/s eta 0:00:40\n",
      "   - -------------------------------------- 0.5/15.5 MB 380.6 kB/s eta 0:00:40\n",
      "   - -------------------------------------- 0.5/15.5 MB 387.9 kB/s eta 0:00:39\n",
      "   - -------------------------------------- 0.5/15.5 MB 409.6 kB/s eta 0:00:37\n",
      "   - -------------------------------------- 0.6/15.5 MB 434.2 kB/s eta 0:00:35\n",
      "   - -------------------------------------- 0.6/15.5 MB 454.6 kB/s eta 0:00:33\n",
      "   - -------------------------------------- 0.6/15.5 MB 459.3 kB/s eta 0:00:33\n",
      "   - -------------------------------------- 0.7/15.5 MB 477.1 kB/s eta 0:00:32\n",
      "   - -------------------------------------- 0.7/15.5 MB 485.9 kB/s eta 0:00:31\n",
      "   -- ------------------------------------- 0.8/15.5 MB 528.0 kB/s eta 0:00:28\n",
      "   -- ------------------------------------- 0.8/15.5 MB 531.8 kB/s eta 0:00:28\n",
      "   -- ------------------------------------- 0.9/15.5 MB 546.0 kB/s eta 0:00:27\n",
      "   -- ------------------------------------- 1.0/15.5 MB 581.8 kB/s eta 0:00:25\n",
      "   -- ------------------------------------- 1.0/15.5 MB 589.7 kB/s eta 0:00:25\n",
      "   -- ------------------------------------- 1.1/15.5 MB 614.6 kB/s eta 0:00:24\n",
      "   -- ------------------------------------- 1.1/15.5 MB 615.4 kB/s eta 0:00:24\n",
      "   -- ------------------------------------- 1.2/15.5 MB 616.6 kB/s eta 0:00:24\n",
      "   --- ------------------------------------ 1.2/15.5 MB 628.7 kB/s eta 0:00:23\n",
      "   --- ------------------------------------ 1.2/15.5 MB 634.1 kB/s eta 0:00:23\n",
      "   --- ------------------------------------ 1.3/15.5 MB 629.8 kB/s eta 0:00:23\n",
      "   --- ------------------------------------ 1.3/15.5 MB 635.3 kB/s eta 0:00:23\n",
      "   --- ------------------------------------ 1.4/15.5 MB 645.2 kB/s eta 0:00:22\n",
      "   --- ------------------------------------ 1.4/15.5 MB 640.9 kB/s eta 0:00:23\n",
      "   --- ------------------------------------ 1.5/15.5 MB 655.1 kB/s eta 0:00:22\n",
      "   --- ------------------------------------ 1.5/15.5 MB 669.0 kB/s eta 0:00:21\n",
      "   --- ------------------------------------ 1.5/15.5 MB 673.3 kB/s eta 0:00:21\n",
      "   ---- ----------------------------------- 1.6/15.5 MB 690.2 kB/s eta 0:00:21\n",
      "   ---- ----------------------------------- 1.7/15.5 MB 698.1 kB/s eta 0:00:20\n",
      "   ---- ----------------------------------- 1.7/15.5 MB 706.2 kB/s eta 0:00:20\n",
      "   ---- ----------------------------------- 1.8/15.5 MB 725.2 kB/s eta 0:00:19\n",
      "   ---- ----------------------------------- 1.8/15.5 MB 728.5 kB/s eta 0:00:19\n",
      "   ---- ----------------------------------- 1.9/15.5 MB 734.2 kB/s eta 0:00:19\n",
      "   ----- ---------------------------------- 2.0/15.5 MB 744.4 kB/s eta 0:00:19\n",
      "   ----- ---------------------------------- 2.0/15.5 MB 744.4 kB/s eta 0:00:19\n",
      "   ----- ---------------------------------- 2.0/15.5 MB 744.4 kB/s eta 0:00:19\n",
      "   ----- ---------------------------------- 2.1/15.5 MB 740.4 kB/s eta 0:00:19\n",
      "   ----- ---------------------------------- 2.1/15.5 MB 743.2 kB/s eta 0:00:19\n",
      "   ----- ---------------------------------- 2.1/15.5 MB 743.2 kB/s eta 0:00:19\n",
      "   ----- ---------------------------------- 2.2/15.5 MB 750.0 kB/s eta 0:00:18\n",
      "   ----- ---------------------------------- 2.2/15.5 MB 755.7 kB/s eta 0:00:18\n",
      "   ----- ---------------------------------- 2.3/15.5 MB 771.4 kB/s eta 0:00:18\n",
      "   ------ --------------------------------- 2.4/15.5 MB 779.7 kB/s eta 0:00:17\n",
      "   ------ --------------------------------- 2.5/15.5 MB 800.9 kB/s eta 0:00:17\n",
      "   ------ --------------------------------- 2.5/15.5 MB 796.3 kB/s eta 0:00:17\n",
      "   ------ --------------------------------- 2.7/15.5 MB 824.6 kB/s eta 0:00:16\n",
      "   ------- -------------------------------- 2.7/15.5 MB 838.1 kB/s eta 0:00:16\n",
      "   ------- -------------------------------- 2.8/15.5 MB 844.8 kB/s eta 0:00:16\n",
      "   ------- -------------------------------- 2.9/15.5 MB 855.1 kB/s eta 0:00:15\n",
      "   ------- -------------------------------- 2.9/15.5 MB 850.6 kB/s eta 0:00:15\n",
      "   ------- -------------------------------- 3.0/15.5 MB 863.8 kB/s eta 0:00:15\n",
      "   ------- -------------------------------- 3.1/15.5 MB 875.6 kB/s eta 0:00:15\n",
      "   -------- ------------------------------- 3.1/15.5 MB 883.4 kB/s eta 0:00:15\n",
      "   -------- ------------------------------- 3.2/15.5 MB 891.8 kB/s eta 0:00:14\n",
      "   -------- ------------------------------- 3.3/15.5 MB 901.1 kB/s eta 0:00:14\n",
      "   -------- ------------------------------- 3.3/15.5 MB 909.1 kB/s eta 0:00:14\n",
      "   -------- ------------------------------- 3.5/15.5 MB 925.2 kB/s eta 0:00:14\n",
      "   --------- ------------------------------ 3.5/15.5 MB 929.9 kB/s eta 0:00:13\n",
      "   --------- ------------------------------ 3.6/15.5 MB 936.0 kB/s eta 0:00:13\n",
      "   --------- ------------------------------ 3.7/15.5 MB 943.4 kB/s eta 0:00:13\n",
      "   --------- ------------------------------ 3.7/15.5 MB 953.0 kB/s eta 0:00:13\n",
      "   --------- ------------------------------ 3.8/15.5 MB 962.3 kB/s eta 0:00:13\n",
      "   ---------- ----------------------------- 3.9/15.5 MB 970.2 kB/s eta 0:00:12\n",
      "   ---------- ----------------------------- 4.0/15.5 MB 980.4 kB/s eta 0:00:12\n",
      "   ---------- ----------------------------- 4.1/15.5 MB 989.1 kB/s eta 0:00:12\n",
      "   ---------- ----------------------------- 4.1/15.5 MB 992.7 kB/s eta 0:00:12\n",
      "   ---------- ----------------------------- 4.2/15.5 MB 1.0 MB/s eta 0:00:12\n",
      "   ----------- ---------------------------- 4.3/15.5 MB 1.0 MB/s eta 0:00:12\n",
      "   ----------- ---------------------------- 4.4/15.5 MB 1.0 MB/s eta 0:00:12\n",
      "   ----------- ---------------------------- 4.4/15.5 MB 1.0 MB/s eta 0:00:11\n",
      "   ----------- ---------------------------- 4.5/15.5 MB 1.0 MB/s eta 0:00:11\n",
      "   ----------- ---------------------------- 4.5/15.5 MB 1.0 MB/s eta 0:00:11\n",
      "   ----------- ---------------------------- 4.5/15.5 MB 1.0 MB/s eta 0:00:11\n",
      "   ----------- ---------------------------- 4.6/15.5 MB 1.0 MB/s eta 0:00:11\n",
      "   ----------- ---------------------------- 4.6/15.5 MB 1.0 MB/s eta 0:00:11\n",
      "   ------------ --------------------------- 4.7/15.5 MB 1.0 MB/s eta 0:00:11\n",
      "   ------------ --------------------------- 4.7/15.5 MB 1.0 MB/s eta 0:00:11\n",
      "   ------------ --------------------------- 4.8/15.5 MB 1.0 MB/s eta 0:00:11\n",
      "   ------------ --------------------------- 4.9/15.5 MB 1.0 MB/s eta 0:00:11\n",
      "   ------------ --------------------------- 4.9/15.5 MB 1.0 MB/s eta 0:00:11\n",
      "   ------------ --------------------------- 5.0/15.5 MB 1.0 MB/s eta 0:00:11\n",
      "   ------------ --------------------------- 5.0/15.5 MB 1.0 MB/s eta 0:00:11\n",
      "   ------------ --------------------------- 5.0/15.5 MB 1.0 MB/s eta 0:00:11\n",
      "   ------------- -------------------------- 5.1/15.5 MB 1.0 MB/s eta 0:00:11\n",
      "   ------------- -------------------------- 5.1/15.5 MB 1.0 MB/s eta 0:00:11\n",
      "   ------------ -------------------------- 5.1/15.5 MB 1,000.0 kB/s eta 0:00:11\n",
      "   ------------- -------------------------- 5.2/15.5 MB 996.8 kB/s eta 0:00:11\n",
      "   ------------- -------------------------- 5.2/15.5 MB 998.7 kB/s eta 0:00:11\n",
      "   ------------- -------------------------- 5.2/15.5 MB 994.7 kB/s eta 0:00:11\n",
      "   ------------- -------------------------- 5.3/15.5 MB 995.6 kB/s eta 0:00:11\n",
      "   ------------- -------------------------- 5.3/15.5 MB 995.4 kB/s eta 0:00:11\n",
      "   ------------- -------------------------- 5.4/15.5 MB 992.4 kB/s eta 0:00:11\n",
      "   ------------- -------------------------- 5.4/15.5 MB 992.4 kB/s eta 0:00:11\n",
      "   -------------- ------------------------- 5.5/15.5 MB 996.9 kB/s eta 0:00:11\n",
      "   -------------- ------------------------- 5.5/15.5 MB 995.0 kB/s eta 0:00:11\n",
      "   -------------- ------------------------- 5.5/15.5 MB 989.3 kB/s eta 0:00:11\n",
      "   -------------- ------------------------- 5.6/15.5 MB 983.9 kB/s eta 0:00:11\n",
      "   -------------- ------------------------- 5.6/15.5 MB 988.4 kB/s eta 0:00:11\n",
      "   -------------- ------------------------- 5.7/15.5 MB 987.4 kB/s eta 0:00:10\n",
      "   -------------- ------------------------- 5.7/15.5 MB 991.0 kB/s eta 0:00:10\n",
      "   -------------- ------------------------- 5.8/15.5 MB 995.3 kB/s eta 0:00:10\n",
      "   --------------- ------------------------ 5.8/15.5 MB 990.0 kB/s eta 0:00:10\n",
      "   --------------- ------------------------ 5.9/15.5 MB 990.8 kB/s eta 0:00:10\n",
      "   --------------- ------------------------ 5.9/15.5 MB 993.3 kB/s eta 0:00:10\n",
      "   --------------- ------------------------ 6.0/15.5 MB 995.7 kB/s eta 0:00:10\n",
      "   --------------- ------------------------ 6.1/15.5 MB 996.5 kB/s eta 0:00:10\n",
      "   --------------- ------------------------ 6.1/15.5 MB 1.0 MB/s eta 0:00:10\n",
      "   --------------- ------------------------ 6.2/15.5 MB 999.6 kB/s eta 0:00:10\n",
      "   ---------------- ----------------------- 6.2/15.5 MB 1.0 MB/s eta 0:00:10\n",
      "   ---------------- ----------------------- 6.3/15.5 MB 1.0 MB/s eta 0:00:10\n",
      "   ---------------- ----------------------- 6.3/15.5 MB 1.0 MB/s eta 0:00:10\n",
      "   ---------------- ----------------------- 6.4/15.5 MB 1.0 MB/s eta 0:00:10\n",
      "   ---------------- ----------------------- 6.5/15.5 MB 1.0 MB/s eta 0:00:10\n",
      "   ---------------- ----------------------- 6.5/15.5 MB 1.0 MB/s eta 0:00:09\n",
      "   ---------------- ----------------------- 6.6/15.5 MB 1.0 MB/s eta 0:00:09\n",
      "   ----------------- ---------------------- 6.6/15.5 MB 1.0 MB/s eta 0:00:09\n",
      "   ----------------- ---------------------- 6.7/15.5 MB 1.0 MB/s eta 0:00:09\n",
      "   ----------------- ---------------------- 6.7/15.5 MB 1.0 MB/s eta 0:00:09\n",
      "   ----------------- ---------------------- 6.7/15.5 MB 1.0 MB/s eta 0:00:09\n",
      "   ----------------- ---------------------- 6.8/15.5 MB 1.0 MB/s eta 0:00:09\n",
      "   ----------------- ---------------------- 6.8/15.5 MB 1.0 MB/s eta 0:00:09\n",
      "   ----------------- ---------------------- 6.9/15.5 MB 1.0 MB/s eta 0:00:09\n",
      "   ----------------- ---------------------- 7.0/15.5 MB 1.0 MB/s eta 0:00:09\n",
      "   ------------------ --------------------- 7.0/15.5 MB 1.0 MB/s eta 0:00:09\n",
      "   ------------------ --------------------- 7.1/15.5 MB 1.0 MB/s eta 0:00:09\n",
      "   ------------------ --------------------- 7.2/15.5 MB 1.0 MB/s eta 0:00:09\n",
      "   ------------------ --------------------- 7.3/15.5 MB 1.0 MB/s eta 0:00:08\n",
      "   ------------------- -------------------- 7.4/15.5 MB 1.0 MB/s eta 0:00:08\n",
      "   ------------------- -------------------- 7.5/15.5 MB 1.0 MB/s eta 0:00:08\n",
      "   ------------------- -------------------- 7.6/15.5 MB 1.1 MB/s eta 0:00:08\n",
      "   ------------------- -------------------- 7.6/15.5 MB 1.1 MB/s eta 0:00:08\n",
      "   ------------------- -------------------- 7.7/15.5 MB 1.1 MB/s eta 0:00:08\n",
      "   ------------------- -------------------- 7.7/15.5 MB 1.1 MB/s eta 0:00:08\n",
      "   -------------------- ------------------- 7.8/15.5 MB 1.1 MB/s eta 0:00:08\n",
      "   -------------------- ------------------- 7.8/15.5 MB 1.1 MB/s eta 0:00:08\n",
      "   -------------------- ------------------- 7.8/15.5 MB 1.0 MB/s eta 0:00:08\n",
      "   -------------------- ------------------- 7.8/15.5 MB 1.0 MB/s eta 0:00:08\n",
      "   -------------------- ------------------- 7.9/15.5 MB 1.0 MB/s eta 0:00:08\n",
      "   -------------------- ------------------- 7.9/15.5 MB 1.0 MB/s eta 0:00:08\n",
      "   -------------------- ------------------- 8.0/15.5 MB 1.0 MB/s eta 0:00:08\n",
      "   -------------------- ------------------- 8.0/15.5 MB 1.0 MB/s eta 0:00:08\n",
      "   -------------------- ------------------- 8.1/15.5 MB 1.0 MB/s eta 0:00:08\n",
      "   -------------------- ------------------- 8.1/15.5 MB 1.0 MB/s eta 0:00:08\n",
      "   --------------------- ------------------ 8.2/15.5 MB 1.0 MB/s eta 0:00:08\n",
      "   --------------------- ------------------ 8.2/15.5 MB 1.0 MB/s eta 0:00:08\n",
      "   --------------------- ------------------ 8.2/15.5 MB 1.0 MB/s eta 0:00:08\n",
      "   --------------------- ------------------ 8.3/15.5 MB 1.0 MB/s eta 0:00:07\n",
      "   --------------------- ------------------ 8.4/15.5 MB 1.0 MB/s eta 0:00:07\n",
      "   --------------------- ------------------ 8.5/15.5 MB 1.0 MB/s eta 0:00:07\n",
      "   ---------------------- ----------------- 8.6/15.5 MB 1.0 MB/s eta 0:00:07\n",
      "   ---------------------- ----------------- 8.6/15.5 MB 1.1 MB/s eta 0:00:07\n",
      "   ---------------------- ----------------- 8.7/15.5 MB 1.0 MB/s eta 0:00:07\n",
      "   ---------------------- ----------------- 8.7/15.5 MB 1.0 MB/s eta 0:00:07\n",
      "   ---------------------- ----------------- 8.7/15.5 MB 1.0 MB/s eta 0:00:07\n",
      "   ---------------------- ----------------- 8.7/15.5 MB 1.0 MB/s eta 0:00:07\n",
      "   ---------------------- ----------------- 8.7/15.5 MB 1.0 MB/s eta 0:00:07\n",
      "   ---------------------- ----------------- 8.8/15.5 MB 1.0 MB/s eta 0:00:07\n",
      "   ---------------------- ----------------- 8.8/15.5 MB 1.0 MB/s eta 0:00:07\n",
      "   ---------------------- ----------------- 8.8/15.5 MB 1.0 MB/s eta 0:00:07\n",
      "   ---------------------- ----------------- 8.9/15.5 MB 1.0 MB/s eta 0:00:07\n",
      "   ----------------------- ---------------- 9.0/15.5 MB 1.0 MB/s eta 0:00:07\n",
      "   ----------------------- ---------------- 9.1/15.5 MB 1.0 MB/s eta 0:00:07\n",
      "   ----------------------- ---------------- 9.2/15.5 MB 1.0 MB/s eta 0:00:07\n",
      "   ----------------------- ---------------- 9.2/15.5 MB 1.0 MB/s eta 0:00:06\n",
      "   ------------------------ --------------- 9.3/15.5 MB 1.1 MB/s eta 0:00:06\n",
      "   ------------------------ --------------- 9.5/15.5 MB 1.1 MB/s eta 0:00:06\n",
      "   ------------------------ --------------- 9.6/15.5 MB 1.1 MB/s eta 0:00:06\n",
      "   ------------------------ --------------- 9.7/15.5 MB 1.1 MB/s eta 0:00:06\n",
      "   ------------------------- -------------- 9.7/15.5 MB 1.1 MB/s eta 0:00:06\n",
      "   ------------------------- -------------- 9.8/15.5 MB 1.1 MB/s eta 0:00:06\n",
      "   ------------------------- -------------- 9.9/15.5 MB 1.1 MB/s eta 0:00:06\n",
      "   ------------------------- -------------- 9.9/15.5 MB 1.1 MB/s eta 0:00:06\n",
      "   ------------------------- -------------- 9.9/15.5 MB 1.1 MB/s eta 0:00:06\n",
      "   ------------------------- -------------- 9.9/15.5 MB 1.1 MB/s eta 0:00:06\n",
      "   ------------------------- -------------- 9.9/15.5 MB 1.1 MB/s eta 0:00:06\n",
      "   ------------------------- -------------- 9.9/15.5 MB 1.1 MB/s eta 0:00:06\n",
      "   -------------------------- ------------- 10.4/15.5 MB 1.1 MB/s eta 0:00:05\n",
      "   -------------------------- ------------- 10.4/15.5 MB 1.1 MB/s eta 0:00:05\n",
      "   -------------------------- ------------- 10.4/15.5 MB 1.1 MB/s eta 0:00:05\n",
      "   -------------------------- ------------- 10.4/15.5 MB 1.1 MB/s eta 0:00:05\n",
      "   -------------------------- ------------- 10.4/15.5 MB 1.1 MB/s eta 0:00:05\n",
      "   -------------------------- ------------- 10.4/15.5 MB 1.1 MB/s eta 0:00:05\n",
      "   -------------------------- ------------- 10.4/15.5 MB 1.1 MB/s eta 0:00:05\n",
      "   -------------------------- ------------- 10.4/15.5 MB 1.1 MB/s eta 0:00:05\n",
      "   -------------------------- ------------- 10.4/15.5 MB 1.1 MB/s eta 0:00:05\n",
      "   --------------------------- ------------ 10.5/15.5 MB 1.1 MB/s eta 0:00:05\n",
      "   --------------------------- ------------ 10.5/15.5 MB 1.1 MB/s eta 0:00:05\n",
      "   --------------------------- ------------ 10.6/15.5 MB 1.1 MB/s eta 0:00:05\n",
      "   --------------------------- ------------ 10.7/15.5 MB 1.2 MB/s eta 0:00:05\n",
      "   --------------------------- ------------ 10.9/15.5 MB 1.2 MB/s eta 0:00:04\n",
      "   ---------------------------- ----------- 11.0/15.5 MB 1.2 MB/s eta 0:00:04\n",
      "   ---------------------------- ----------- 11.1/15.5 MB 1.2 MB/s eta 0:00:04\n",
      "   ---------------------------- ----------- 11.2/15.5 MB 1.2 MB/s eta 0:00:04\n",
      "   ----------------------------- ---------- 11.3/15.5 MB 1.2 MB/s eta 0:00:04\n",
      "   ----------------------------- ---------- 11.5/15.5 MB 1.2 MB/s eta 0:00:04\n",
      "   ----------------------------- ---------- 11.6/15.5 MB 1.2 MB/s eta 0:00:04\n",
      "   ------------------------------ --------- 11.7/15.5 MB 1.2 MB/s eta 0:00:04\n",
      "   ------------------------------ --------- 11.7/15.5 MB 1.2 MB/s eta 0:00:04\n",
      "   ------------------------------ --------- 11.8/15.5 MB 1.3 MB/s eta 0:00:03\n",
      "   ------------------------------ --------- 11.9/15.5 MB 1.3 MB/s eta 0:00:03\n",
      "   ------------------------------ --------- 12.0/15.5 MB 1.3 MB/s eta 0:00:03\n",
      "   ------------------------------- -------- 12.1/15.5 MB 1.3 MB/s eta 0:00:03\n",
      "   ------------------------------- -------- 12.2/15.5 MB 1.3 MB/s eta 0:00:03\n",
      "   ------------------------------- -------- 12.2/15.5 MB 1.3 MB/s eta 0:00:03\n",
      "   ------------------------------- -------- 12.3/15.5 MB 1.3 MB/s eta 0:00:03\n",
      "   -------------------------------- ------- 12.4/15.5 MB 1.3 MB/s eta 0:00:03\n",
      "   -------------------------------- ------- 12.5/15.5 MB 1.3 MB/s eta 0:00:03\n",
      "   -------------------------------- ------- 12.7/15.5 MB 1.3 MB/s eta 0:00:03\n",
      "   -------------------------------- ------- 12.8/15.5 MB 1.3 MB/s eta 0:00:03\n",
      "   --------------------------------- ------ 12.9/15.5 MB 1.3 MB/s eta 0:00:03\n",
      "   --------------------------------- ------ 12.9/15.5 MB 1.3 MB/s eta 0:00:02\n",
      "   --------------------------------- ------ 13.1/15.5 MB 1.3 MB/s eta 0:00:02\n",
      "   --------------------------------- ------ 13.2/15.5 MB 1.3 MB/s eta 0:00:02\n",
      "   ---------------------------------- ----- 13.3/15.5 MB 1.3 MB/s eta 0:00:02\n",
      "   ---------------------------------- ----- 13.4/15.5 MB 1.3 MB/s eta 0:00:02\n",
      "   ---------------------------------- ----- 13.5/15.5 MB 1.3 MB/s eta 0:00:02\n",
      "   ----------------------------------- ---- 13.6/15.5 MB 1.3 MB/s eta 0:00:02\n",
      "   ----------------------------------- ---- 13.7/15.5 MB 1.3 MB/s eta 0:00:02\n",
      "   ----------------------------------- ---- 13.8/15.5 MB 1.3 MB/s eta 0:00:02\n",
      "   ----------------------------------- ---- 13.9/15.5 MB 1.3 MB/s eta 0:00:02\n",
      "   ------------------------------------ --- 14.0/15.5 MB 1.3 MB/s eta 0:00:02\n",
      "   ------------------------------------ --- 14.2/15.5 MB 1.4 MB/s eta 0:00:02\n",
      "   ------------------------------------ --- 14.2/15.5 MB 1.4 MB/s eta 0:00:01\n",
      "   ------------------------------------- -- 14.4/15.5 MB 1.4 MB/s eta 0:00:01\n",
      "   ------------------------------------- -- 14.5/15.5 MB 1.4 MB/s eta 0:00:01\n",
      "   ------------------------------------- -- 14.6/15.5 MB 1.4 MB/s eta 0:00:01\n",
      "   ------------------------------------- -- 14.7/15.5 MB 1.4 MB/s eta 0:00:01\n",
      "   -------------------------------------- - 14.8/15.5 MB 1.4 MB/s eta 0:00:01\n",
      "   -------------------------------------- - 14.9/15.5 MB 1.4 MB/s eta 0:00:01\n",
      "   -------------------------------------- - 15.0/15.5 MB 1.4 MB/s eta 0:00:01\n",
      "   -------------------------------------- - 15.1/15.5 MB 1.4 MB/s eta 0:00:01\n",
      "   ---------------------------------------  15.2/15.5 MB 1.4 MB/s eta 0:00:01\n",
      "   ---------------------------------------  15.3/15.5 MB 1.4 MB/s eta 0:00:01\n",
      "   ---------------------------------------  15.4/15.5 MB 1.5 MB/s eta 0:00:01\n",
      "   ---------------------------------------  15.5/15.5 MB 1.5 MB/s eta 0:00:01\n",
      "   ---------------------------------------  15.5/15.5 MB 1.5 MB/s eta 0:00:01\n",
      "   ---------------------------------------  15.5/15.5 MB 1.5 MB/s eta 0:00:01\n",
      "   ---------------------------------------- 15.5/15.5 MB 1.5 MB/s eta 0:00:00\n",
      "Installing collected packages: numpy\n",
      "  Attempting uninstall: numpy\n",
      "    Found existing installation: numpy 2.1.2\n",
      "    Uninstalling numpy-2.1.2:\n",
      "      Successfully uninstalled numpy-2.1.2\n",
      "Successfully installed numpy-1.26.4\n",
      "Note: you may need to restart the kernel to use updated packages.\n"
     ]
    },
    {
     "name": "stderr",
     "output_type": "stream",
     "text": [
      "  WARNING: Failed to remove contents in a temporary directory 'C:\\Users\\DELL\\anaconda3\\Lib\\site-packages\\~umpy.libs'.\n",
      "  You can safely remove it manually.\n",
      "  WARNING: Failed to remove contents in a temporary directory 'C:\\Users\\DELL\\anaconda3\\Lib\\site-packages\\~umpy'.\n",
      "  You can safely remove it manually.\n"
     ]
    }
   ],
   "source": [
    "pip install matplotlib"
   ]
  },
  {
   "cell_type": "code",
   "execution_count": 1,
   "id": "cb6dabc4-5f27-4234-8a75-6c2ca186bbe1",
   "metadata": {},
   "outputs": [
    {
     "name": "stdout",
     "output_type": "stream",
     "text": [
      "Requirement already satisfied: seaborn in c:\\users\\dell\\anaconda3\\lib\\site-packages (0.13.2)\n",
      "Requirement already satisfied: numpy!=1.24.0,>=1.20 in c:\\users\\dell\\anaconda3\\lib\\site-packages (from seaborn) (1.26.4)\n",
      "Requirement already satisfied: pandas>=1.2 in c:\\users\\dell\\appdata\\roaming\\python\\python312\\site-packages (from seaborn) (2.2.2)\n",
      "Requirement already satisfied: matplotlib!=3.6.1,>=3.4 in c:\\users\\dell\\anaconda3\\lib\\site-packages (from seaborn) (3.8.4)\n",
      "Requirement already satisfied: contourpy>=1.0.1 in c:\\users\\dell\\anaconda3\\lib\\site-packages (from matplotlib!=3.6.1,>=3.4->seaborn) (1.2.0)\n",
      "Requirement already satisfied: cycler>=0.10 in c:\\users\\dell\\anaconda3\\lib\\site-packages (from matplotlib!=3.6.1,>=3.4->seaborn) (0.11.0)\n",
      "Requirement already satisfied: fonttools>=4.22.0 in c:\\users\\dell\\anaconda3\\lib\\site-packages (from matplotlib!=3.6.1,>=3.4->seaborn) (4.51.0)\n",
      "Requirement already satisfied: kiwisolver>=1.3.1 in c:\\users\\dell\\anaconda3\\lib\\site-packages (from matplotlib!=3.6.1,>=3.4->seaborn) (1.4.4)\n",
      "Requirement already satisfied: packaging>=20.0 in c:\\users\\dell\\appdata\\roaming\\python\\python312\\site-packages (from matplotlib!=3.6.1,>=3.4->seaborn) (24.1)\n",
      "Requirement already satisfied: pillow>=8 in c:\\users\\dell\\appdata\\roaming\\python\\python312\\site-packages (from matplotlib!=3.6.1,>=3.4->seaborn) (10.4.0)\n",
      "Requirement already satisfied: pyparsing>=2.3.1 in c:\\users\\dell\\appdata\\roaming\\python\\python312\\site-packages (from matplotlib!=3.6.1,>=3.4->seaborn) (3.1.2)\n",
      "Requirement already satisfied: python-dateutil>=2.7 in c:\\users\\dell\\appdata\\roaming\\python\\python312\\site-packages (from matplotlib!=3.6.1,>=3.4->seaborn) (2.9.0.post0)\n",
      "Requirement already satisfied: pytz>=2020.1 in c:\\users\\dell\\appdata\\roaming\\python\\python312\\site-packages (from pandas>=1.2->seaborn) (2024.1)\n",
      "Requirement already satisfied: tzdata>=2022.7 in c:\\users\\dell\\appdata\\roaming\\python\\python312\\site-packages (from pandas>=1.2->seaborn) (2024.1)\n",
      "Requirement already satisfied: six>=1.5 in c:\\users\\dell\\appdata\\roaming\\python\\python312\\site-packages (from python-dateutil>=2.7->matplotlib!=3.6.1,>=3.4->seaborn) (1.16.0)\n",
      "Note: you may need to restart the kernel to use updated packages.\n"
     ]
    }
   ],
   "source": [
    "pip install seaborn"
   ]
  },
  {
   "cell_type": "code",
   "execution_count": 6,
   "id": "69317434-f0b6-445d-aef5-819fc1c21fc2",
   "metadata": {},
   "outputs": [],
   "source": [
    "import pandas as pd\n",
    "import numpy as np\n",
    "import matplotlib.pyplot as plt\n",
    "import seaborn as sns"
   ]
  },
  {
   "cell_type": "code",
   "execution_count": 8,
   "id": "4ea98500-9d39-454a-ac1a-d61b574e2fff",
   "metadata": {},
   "outputs": [
    {
     "name": "stdout",
     "output_type": "stream",
     "text": [
      "                      name online_order book_table   rate  votes  \\\n",
      "0                    Jalsa          Yes        Yes  4.1/5    775   \n",
      "1           Spice Elephant          Yes         No  4.1/5    787   \n",
      "2          San Churro Cafe          Yes         No  3.8/5    918   \n",
      "3    Addhuri Udupi Bhojana           No         No  3.7/5     88   \n",
      "4            Grand Village           No         No  3.8/5    166   \n",
      "..                     ...          ...        ...    ...    ...   \n",
      "143       Melting Melodies           No         No  3.3/5      0   \n",
      "144        New Indraprasta           No         No  3.3/5      0   \n",
      "145           Anna Kuteera          Yes         No  4.0/5    771   \n",
      "146                 Darbar           No         No  3.0/5     98   \n",
      "147          Vijayalakshmi          Yes         No  3.9/5     47   \n",
      "\n",
      "     approx_cost(for two people) listed_in(type)  \n",
      "0                            800          Buffet  \n",
      "1                            800          Buffet  \n",
      "2                            800          Buffet  \n",
      "3                            300          Buffet  \n",
      "4                            600          Buffet  \n",
      "..                           ...             ...  \n",
      "143                          100          Dining  \n",
      "144                          150          Dining  \n",
      "145                          450          Dining  \n",
      "146                          800          Dining  \n",
      "147                          200          Dining  \n",
      "\n",
      "[148 rows x 7 columns]\n"
     ]
    }
   ],
   "source": [
    "dataframe = pd.read_csv(\"Zomato data .csv\")\n",
    "print(dataframe)"
   ]
  },
  {
   "cell_type": "code",
   "execution_count": 10,
   "id": "ebfabd1e-1cea-47a5-bb35-3e94c99f968e",
   "metadata": {},
   "outputs": [
    {
     "data": {
      "text/html": [
       "<div>\n",
       "<style scoped>\n",
       "    .dataframe tbody tr th:only-of-type {\n",
       "        vertical-align: middle;\n",
       "    }\n",
       "\n",
       "    .dataframe tbody tr th {\n",
       "        vertical-align: top;\n",
       "    }\n",
       "\n",
       "    .dataframe thead th {\n",
       "        text-align: right;\n",
       "    }\n",
       "</style>\n",
       "<table border=\"1\" class=\"dataframe\">\n",
       "  <thead>\n",
       "    <tr style=\"text-align: right;\">\n",
       "      <th></th>\n",
       "      <th>name</th>\n",
       "      <th>online_order</th>\n",
       "      <th>book_table</th>\n",
       "      <th>rate</th>\n",
       "      <th>votes</th>\n",
       "      <th>approx_cost(for two people)</th>\n",
       "      <th>listed_in(type)</th>\n",
       "    </tr>\n",
       "  </thead>\n",
       "  <tbody>\n",
       "    <tr>\n",
       "      <th>0</th>\n",
       "      <td>Jalsa</td>\n",
       "      <td>Yes</td>\n",
       "      <td>Yes</td>\n",
       "      <td>4.1/5</td>\n",
       "      <td>775</td>\n",
       "      <td>800</td>\n",
       "      <td>Buffet</td>\n",
       "    </tr>\n",
       "    <tr>\n",
       "      <th>1</th>\n",
       "      <td>Spice Elephant</td>\n",
       "      <td>Yes</td>\n",
       "      <td>No</td>\n",
       "      <td>4.1/5</td>\n",
       "      <td>787</td>\n",
       "      <td>800</td>\n",
       "      <td>Buffet</td>\n",
       "    </tr>\n",
       "    <tr>\n",
       "      <th>2</th>\n",
       "      <td>San Churro Cafe</td>\n",
       "      <td>Yes</td>\n",
       "      <td>No</td>\n",
       "      <td>3.8/5</td>\n",
       "      <td>918</td>\n",
       "      <td>800</td>\n",
       "      <td>Buffet</td>\n",
       "    </tr>\n",
       "    <tr>\n",
       "      <th>3</th>\n",
       "      <td>Addhuri Udupi Bhojana</td>\n",
       "      <td>No</td>\n",
       "      <td>No</td>\n",
       "      <td>3.7/5</td>\n",
       "      <td>88</td>\n",
       "      <td>300</td>\n",
       "      <td>Buffet</td>\n",
       "    </tr>\n",
       "    <tr>\n",
       "      <th>4</th>\n",
       "      <td>Grand Village</td>\n",
       "      <td>No</td>\n",
       "      <td>No</td>\n",
       "      <td>3.8/5</td>\n",
       "      <td>166</td>\n",
       "      <td>600</td>\n",
       "      <td>Buffet</td>\n",
       "    </tr>\n",
       "    <tr>\n",
       "      <th>...</th>\n",
       "      <td>...</td>\n",
       "      <td>...</td>\n",
       "      <td>...</td>\n",
       "      <td>...</td>\n",
       "      <td>...</td>\n",
       "      <td>...</td>\n",
       "      <td>...</td>\n",
       "    </tr>\n",
       "    <tr>\n",
       "      <th>143</th>\n",
       "      <td>Melting Melodies</td>\n",
       "      <td>No</td>\n",
       "      <td>No</td>\n",
       "      <td>3.3/5</td>\n",
       "      <td>0</td>\n",
       "      <td>100</td>\n",
       "      <td>Dining</td>\n",
       "    </tr>\n",
       "    <tr>\n",
       "      <th>144</th>\n",
       "      <td>New Indraprasta</td>\n",
       "      <td>No</td>\n",
       "      <td>No</td>\n",
       "      <td>3.3/5</td>\n",
       "      <td>0</td>\n",
       "      <td>150</td>\n",
       "      <td>Dining</td>\n",
       "    </tr>\n",
       "    <tr>\n",
       "      <th>145</th>\n",
       "      <td>Anna Kuteera</td>\n",
       "      <td>Yes</td>\n",
       "      <td>No</td>\n",
       "      <td>4.0/5</td>\n",
       "      <td>771</td>\n",
       "      <td>450</td>\n",
       "      <td>Dining</td>\n",
       "    </tr>\n",
       "    <tr>\n",
       "      <th>146</th>\n",
       "      <td>Darbar</td>\n",
       "      <td>No</td>\n",
       "      <td>No</td>\n",
       "      <td>3.0/5</td>\n",
       "      <td>98</td>\n",
       "      <td>800</td>\n",
       "      <td>Dining</td>\n",
       "    </tr>\n",
       "    <tr>\n",
       "      <th>147</th>\n",
       "      <td>Vijayalakshmi</td>\n",
       "      <td>Yes</td>\n",
       "      <td>No</td>\n",
       "      <td>3.9/5</td>\n",
       "      <td>47</td>\n",
       "      <td>200</td>\n",
       "      <td>Dining</td>\n",
       "    </tr>\n",
       "  </tbody>\n",
       "</table>\n",
       "<p>148 rows × 7 columns</p>\n",
       "</div>"
      ],
      "text/plain": [
       "                      name online_order book_table   rate  votes  \\\n",
       "0                    Jalsa          Yes        Yes  4.1/5    775   \n",
       "1           Spice Elephant          Yes         No  4.1/5    787   \n",
       "2          San Churro Cafe          Yes         No  3.8/5    918   \n",
       "3    Addhuri Udupi Bhojana           No         No  3.7/5     88   \n",
       "4            Grand Village           No         No  3.8/5    166   \n",
       "..                     ...          ...        ...    ...    ...   \n",
       "143       Melting Melodies           No         No  3.3/5      0   \n",
       "144        New Indraprasta           No         No  3.3/5      0   \n",
       "145           Anna Kuteera          Yes         No  4.0/5    771   \n",
       "146                 Darbar           No         No  3.0/5     98   \n",
       "147          Vijayalakshmi          Yes         No  3.9/5     47   \n",
       "\n",
       "     approx_cost(for two people) listed_in(type)  \n",
       "0                            800          Buffet  \n",
       "1                            800          Buffet  \n",
       "2                            800          Buffet  \n",
       "3                            300          Buffet  \n",
       "4                            600          Buffet  \n",
       "..                           ...             ...  \n",
       "143                          100          Dining  \n",
       "144                          150          Dining  \n",
       "145                          450          Dining  \n",
       "146                          800          Dining  \n",
       "147                          200          Dining  \n",
       "\n",
       "[148 rows x 7 columns]"
      ]
     },
     "execution_count": 10,
     "metadata": {},
     "output_type": "execute_result"
    }
   ],
   "source": [
    "dataframe"
   ]
  },
  {
   "cell_type": "code",
   "execution_count": 12,
   "id": "1db33505-d0a5-4966-88bd-e1636ac1e894",
   "metadata": {},
   "outputs": [
    {
     "name": "stdout",
     "output_type": "stream",
     "text": [
      "                    name online_order book_table  rate  votes  \\\n",
      "0                  Jalsa          Yes        Yes   4.1    775   \n",
      "1         Spice Elephant          Yes         No   4.1    787   \n",
      "2        San Churro Cafe          Yes         No   3.8    918   \n",
      "3  Addhuri Udupi Bhojana           No         No   3.7     88   \n",
      "4          Grand Village           No         No   3.8    166   \n",
      "\n",
      "   approx_cost(for two people) listed_in(type)  \n",
      "0                          800          Buffet  \n",
      "1                          800          Buffet  \n",
      "2                          800          Buffet  \n",
      "3                          300          Buffet  \n",
      "4                          600          Buffet  \n"
     ]
    }
   ],
   "source": [
    "def handleRate(value):\n",
    "    value = str(value).split('/')\n",
    "    value = value[0]\n",
    "    return float(value)\n",
    "dataframe['rate'] = dataframe['rate'].apply(handleRate)\n",
    "print(dataframe.head())"
   ]
  },
  {
   "cell_type": "code",
   "execution_count": 14,
   "id": "e6bb5848-355a-49e7-9553-eded5695dd0a",
   "metadata": {},
   "outputs": [
    {
     "name": "stdout",
     "output_type": "stream",
     "text": [
      "<class 'pandas.core.frame.DataFrame'>\n",
      "RangeIndex: 148 entries, 0 to 147\n",
      "Data columns (total 7 columns):\n",
      " #   Column                       Non-Null Count  Dtype  \n",
      "---  ------                       --------------  -----  \n",
      " 0   name                         148 non-null    object \n",
      " 1   online_order                 148 non-null    object \n",
      " 2   book_table                   148 non-null    object \n",
      " 3   rate                         148 non-null    float64\n",
      " 4   votes                        148 non-null    int64  \n",
      " 5   approx_cost(for two people)  148 non-null    int64  \n",
      " 6   listed_in(type)              148 non-null    object \n",
      "dtypes: float64(1), int64(2), object(4)\n",
      "memory usage: 8.2+ KB\n"
     ]
    }
   ],
   "source": [
    "dataframe.info()"
   ]
  },
  {
   "cell_type": "code",
   "execution_count": 16,
   "id": "43d37b70-c52a-4bd0-9b9f-9a49a2e2730f",
   "metadata": {},
   "outputs": [
    {
     "data": {
      "text/html": [
       "<div>\n",
       "<style scoped>\n",
       "    .dataframe tbody tr th:only-of-type {\n",
       "        vertical-align: middle;\n",
       "    }\n",
       "\n",
       "    .dataframe tbody tr th {\n",
       "        vertical-align: top;\n",
       "    }\n",
       "\n",
       "    .dataframe thead th {\n",
       "        text-align: right;\n",
       "    }\n",
       "</style>\n",
       "<table border=\"1\" class=\"dataframe\">\n",
       "  <thead>\n",
       "    <tr style=\"text-align: right;\">\n",
       "      <th></th>\n",
       "      <th>name</th>\n",
       "      <th>online_order</th>\n",
       "      <th>book_table</th>\n",
       "      <th>rate</th>\n",
       "      <th>votes</th>\n",
       "      <th>approx_cost(for two people)</th>\n",
       "      <th>listed_in(type)</th>\n",
       "    </tr>\n",
       "  </thead>\n",
       "  <tbody>\n",
       "    <tr>\n",
       "      <th>0</th>\n",
       "      <td>Jalsa</td>\n",
       "      <td>Yes</td>\n",
       "      <td>Yes</td>\n",
       "      <td>4.1</td>\n",
       "      <td>775</td>\n",
       "      <td>800</td>\n",
       "      <td>Buffet</td>\n",
       "    </tr>\n",
       "    <tr>\n",
       "      <th>1</th>\n",
       "      <td>Spice Elephant</td>\n",
       "      <td>Yes</td>\n",
       "      <td>No</td>\n",
       "      <td>4.1</td>\n",
       "      <td>787</td>\n",
       "      <td>800</td>\n",
       "      <td>Buffet</td>\n",
       "    </tr>\n",
       "    <tr>\n",
       "      <th>2</th>\n",
       "      <td>San Churro Cafe</td>\n",
       "      <td>Yes</td>\n",
       "      <td>No</td>\n",
       "      <td>3.8</td>\n",
       "      <td>918</td>\n",
       "      <td>800</td>\n",
       "      <td>Buffet</td>\n",
       "    </tr>\n",
       "    <tr>\n",
       "      <th>3</th>\n",
       "      <td>Addhuri Udupi Bhojana</td>\n",
       "      <td>No</td>\n",
       "      <td>No</td>\n",
       "      <td>3.7</td>\n",
       "      <td>88</td>\n",
       "      <td>300</td>\n",
       "      <td>Buffet</td>\n",
       "    </tr>\n",
       "    <tr>\n",
       "      <th>4</th>\n",
       "      <td>Grand Village</td>\n",
       "      <td>No</td>\n",
       "      <td>No</td>\n",
       "      <td>3.8</td>\n",
       "      <td>166</td>\n",
       "      <td>600</td>\n",
       "      <td>Buffet</td>\n",
       "    </tr>\n",
       "  </tbody>\n",
       "</table>\n",
       "</div>"
      ],
      "text/plain": [
       "                    name online_order book_table  rate  votes  \\\n",
       "0                  Jalsa          Yes        Yes   4.1    775   \n",
       "1         Spice Elephant          Yes         No   4.1    787   \n",
       "2        San Churro Cafe          Yes         No   3.8    918   \n",
       "3  Addhuri Udupi Bhojana           No         No   3.7     88   \n",
       "4          Grand Village           No         No   3.8    166   \n",
       "\n",
       "   approx_cost(for two people) listed_in(type)  \n",
       "0                          800          Buffet  \n",
       "1                          800          Buffet  \n",
       "2                          800          Buffet  \n",
       "3                          300          Buffet  \n",
       "4                          600          Buffet  "
      ]
     },
     "execution_count": 16,
     "metadata": {},
     "output_type": "execute_result"
    }
   ],
   "source": [
    "dataframe.head()"
   ]
  },
  {
   "cell_type": "raw",
   "id": "353cdc04-b667-4082-b027-8276c4a18032",
   "metadata": {},
   "source": [
    "Q:1 \n",
    "WHAT TYPE OF RESTURANT DO THE MEJORITY OF CUSTOMERS ORDER FROM?"
   ]
  },
  {
   "cell_type": "code",
   "execution_count": 18,
   "id": "170af1df-0a90-4a57-b30f-8cc13ae2e0ad",
   "metadata": {},
   "outputs": [
    {
     "data": {
      "text/plain": [
       "Text(0.5, 0, 'type of resturant')"
      ]
     },
     "execution_count": 18,
     "metadata": {},
     "output_type": "execute_result"
    },
    {
     "data": {
      "image/png": "[encoded data removed]",
      "text/plain": [
       "<Figure size 640x480 with 1 Axes>"
      ]
     },
     "metadata": {},
     "output_type": "display_data"
    }
   ],
   "source": [
    "sns.countplot(x=dataframe['listed_in(type)'])\n",
    "plt.xlabel(\"type of resturant\")"
   ]
  },
  {
   "cell_type": "raw",
   "id": "2ef3b98d-5c74-498c-84bc-d2f680a07f4d",
   "metadata": {},
   "source": [
    "CONCLUSION :\n",
    "       MAJORITY OF THE RESTAURANT FALLS IN DINING CATEGORY"
   ]
  },
  {
   "cell_type": "raw",
   "id": "6c785cee-43d4-4c92-9443-2f478cf1c348",
   "metadata": {},
   "source": [
    "Q:2\n",
    "    HOW MANY VOTES HAS EACH TYPE OF RESTURANT RECEIVED FROM CUSTOMER"
   ]
  },
  {
   "cell_type": "code",
   "execution_count": 20,
   "id": "b54b14a6-31a3-48f5-861b-38ab518c95df",
   "metadata": {},
   "outputs": [
    {
     "data": {
      "text/plain": [
       "Text(0, 0.5, 'Votes')"
      ]
     },
     "execution_count": 20,
     "metadata": {},
     "output_type": "execute_result"
    },
    {
     "data": {
      "image/png": "[encoded data removed]",
      "text/plain": [
       "<Figure size 640x480 with 1 Axes>"
      ]
     },
     "metadata": {},
     "output_type": "display_data"
    }
   ],
   "source": [
    "grouped_data = dataframe.groupby('listed_in(type)')['votes'].sum()\n",
    "result = pd.DataFrame({'votes':grouped_data})\n",
    "plt.plot(result, c=\"green\", marker=\"o\")\n",
    "plt.xlabel(\"Type of Reasturant\",  c=\"red\", size=20)\n",
    "plt.ylabel(\"Votes\", c=\"red\", size=20)"
   ]
  },
  {
   "cell_type": "raw",
   "id": "bab28aed-fc7c-42a0-a80e-d055dbf2e32b",
   "metadata": {},
   "source": [
    "CONCLUSION :\n",
    "          DINING RESTURANT HAS RECEIVED MAJPORITY VOTES FROM CUSTOMER"
   ]
  },
  {
   "cell_type": "raw",
   "id": "58642ddf-6083-49e7-87cd-4646ecb87b2c",
   "metadata": {},
   "source": [
    "Q:3\n",
    "   WHAT ARE THE RATING THAT THE MAJORITY  OF RESTURANT HAVE RECEIVED?"
   ]
  },
  {
   "cell_type": "code",
   "execution_count": 22,
   "id": "def6b498-c353-41fd-a4a1-a94584d8cfbd",
   "metadata": {},
   "outputs": [
    {
     "data": {
      "image/png": "[encoded data removed]",
      "text/plain": [
       "<Figure size 640x480 with 1 Axes>"
      ]
     },
     "metadata": {},
     "output_type": "display_data"
    }
   ],
   "source": [
    "plt.hist(dataframe['rate'], bins= 5)\n",
    "plt.title(\"Rating Distribution\")\n",
    "plt.show()"
   ]
  },
  {
   "cell_type": "raw",
   "id": "6dd893c5-daba-45a1-ad06-f238b6c2eba0",
   "metadata": {},
   "source": [
    "CONCLUSION: \n",
    "          THE MAJORITY OF RESTURANT HAS RECEIVING RATE FROM 3.5 - 4"
   ]
  },
  {
   "cell_type": "raw",
   "id": "8c60df9a-e36a-4b49-a989-70818b09039c",
   "metadata": {},
   "source": [
    "Q:4\n",
    "    ZOMATO HAS  OBSERVED THAT MOST COUPLES ORDER  MOST OF THEIR FOOD ONLINE.  WHAT IS THEIR AVERAGE SPENDING ON EACH ORDER?"
   ]
  },
  {
   "cell_type": "code",
   "execution_count": 24,
   "id": "6af3b87f-e689-4a65-a516-830d0881aa78",
   "metadata": {},
   "outputs": [
    {
     "data": {
      "text/html": [
       "<div>\n",
       "<style scoped>\n",
       "    .dataframe tbody tr th:only-of-type {\n",
       "        vertical-align: middle;\n",
       "    }\n",
       "\n",
       "    .dataframe tbody tr th {\n",
       "        vertical-align: top;\n",
       "    }\n",
       "\n",
       "    .dataframe thead th {\n",
       "        text-align: right;\n",
       "    }\n",
       "</style>\n",
       "<table border=\"1\" class=\"dataframe\">\n",
       "  <thead>\n",
       "    <tr style=\"text-align: right;\">\n",
       "      <th></th>\n",
       "      <th>name</th>\n",
       "      <th>online_order</th>\n",
       "      <th>book_table</th>\n",
       "      <th>rate</th>\n",
       "      <th>votes</th>\n",
       "      <th>approx_cost(for two people)</th>\n",
       "      <th>listed_in(type)</th>\n",
       "    </tr>\n",
       "  </thead>\n",
       "  <tbody>\n",
       "    <tr>\n",
       "      <th>0</th>\n",
       "      <td>Jalsa</td>\n",
       "      <td>Yes</td>\n",
       "      <td>Yes</td>\n",
       "      <td>4.1</td>\n",
       "      <td>775</td>\n",
       "      <td>800</td>\n",
       "      <td>Buffet</td>\n",
       "    </tr>\n",
       "    <tr>\n",
       "      <th>1</th>\n",
       "      <td>Spice Elephant</td>\n",
       "      <td>Yes</td>\n",
       "      <td>No</td>\n",
       "      <td>4.1</td>\n",
       "      <td>787</td>\n",
       "      <td>800</td>\n",
       "      <td>Buffet</td>\n",
       "    </tr>\n",
       "    <tr>\n",
       "      <th>2</th>\n",
       "      <td>San Churro Cafe</td>\n",
       "      <td>Yes</td>\n",
       "      <td>No</td>\n",
       "      <td>3.8</td>\n",
       "      <td>918</td>\n",
       "      <td>800</td>\n",
       "      <td>Buffet</td>\n",
       "    </tr>\n",
       "    <tr>\n",
       "      <th>3</th>\n",
       "      <td>Addhuri Udupi Bhojana</td>\n",
       "      <td>No</td>\n",
       "      <td>No</td>\n",
       "      <td>3.7</td>\n",
       "      <td>88</td>\n",
       "      <td>300</td>\n",
       "      <td>Buffet</td>\n",
       "    </tr>\n",
       "    <tr>\n",
       "      <th>4</th>\n",
       "      <td>Grand Village</td>\n",
       "      <td>No</td>\n",
       "      <td>No</td>\n",
       "      <td>3.8</td>\n",
       "      <td>166</td>\n",
       "      <td>600</td>\n",
       "      <td>Buffet</td>\n",
       "    </tr>\n",
       "  </tbody>\n",
       "</table>\n",
       "</div>"
      ],
      "text/plain": [
       "                    name online_order book_table  rate  votes  \\\n",
       "0                  Jalsa          Yes        Yes   4.1    775   \n",
       "1         Spice Elephant          Yes         No   4.1    787   \n",
       "2        San Churro Cafe          Yes         No   3.8    918   \n",
       "3  Addhuri Udupi Bhojana           No         No   3.7     88   \n",
       "4          Grand Village           No         No   3.8    166   \n",
       "\n",
       "   approx_cost(for two people) listed_in(type)  \n",
       "0                          800          Buffet  \n",
       "1                          800          Buffet  \n",
       "2                          800          Buffet  \n",
       "3                          300          Buffet  \n",
       "4                          600          Buffet  "
      ]
     },
     "execution_count": 24,
     "metadata": {},
     "output_type": "execute_result"
    }
   ],
   "source": [
    "dataframe.head()"
   ]
  },
  {
   "cell_type": "code",
   "execution_count": 26,
   "id": "d12edc57-a136-47ec-83e3-b01dd230d60c",
   "metadata": {},
   "outputs": [
    {
     "data": {
      "text/plain": [
       "<Axes: xlabel='approx_cost(for two people)', ylabel='count'>"
      ]
     },
     "execution_count": 26,
     "metadata": {},
     "output_type": "execute_result"
    },
    {
     "data": {
      "image/png": "[encoded data removed]",
      "text/plain": [
       "<Figure size 640x480 with 1 Axes>"
      ]
     },
     "metadata": {},
     "output_type": "display_data"
    }
   ],
   "source": [
    "couple_data = dataframe['approx_cost(for two people)']\n",
    "sns.countplot(x=couple_data)"
   ]
  },
  {
   "cell_type": "raw",
   "id": "bc3291e4-9b6f-4d30-9fbe-f9c84b6f14c4",
   "metadata": {},
   "source": [
    "CONCLUSION:\n",
    "          THE MJORITY OF COUPLES CHOOSING THE RESTURANT WITH PRICE OF 300 RS "
   ]
  },
  {
   "cell_type": "raw",
   "id": "e3c90fae-f33b-4cb5-84c0-90bc40b3cd33",
   "metadata": {},
   "source": [
    "Q:5\n",
    "   WHICH MODE(ONLINE OR OFFLINE) HAS RECEIVED THE MAXIMUM RATING???"
   ]
  },
  {
   "cell_type": "code",
   "execution_count": 28,
   "id": "123e52b6-2864-4c91-a133-1d311eccecad",
   "metadata": {},
   "outputs": [
    {
     "data": {
      "text/plain": [
       "<Axes: xlabel='online_order', ylabel='rate'>"
      ]
     },
     "execution_count": 28,
     "metadata": {},
     "output_type": "execute_result"
    },
    {
     "data": {
      "image/png": "[encoded data removed]",
      "text/plain": [
       "<Figure size 600x600 with 1 Axes>"
      ]
     },
     "metadata": {},
     "output_type": "display_data"
    }
   ],
   "source": [
    "plt.figure(figsize=(6,6))\n",
    "sns.boxplot(x='online_order', y='rate', data = dataframe)"
   ]
  },
  {
   "cell_type": "raw",
   "id": "71a53b3e-a870-4685-87f1-bdd4fbf5defe",
   "metadata": {},
   "source": [
    "CONCLUSION:\n",
    "          OFFLINE ORDER HAS RECEIVED LOWEST RATING"
   ]
  },
  {
   "cell_type": "raw",
   "id": "24b0a67f-534d-4908-ba58-cf1086083b22",
   "metadata": {},
   "source": [
    "Q:6\n",
    "   WICH TYPE OF RESTAURANT RECEIVED MORE OFFLINE ORDER??"
   ]
  },
  {
   "cell_type": "code",
   "execution_count": 30,
   "id": "ea7f7e8e-ff2b-4cd4-903e-d6bdd63e1aad",
   "metadata": {},
   "outputs": [
    {
     "data": {
      "text/html": [
       "<div>\n",
       "<style scoped>\n",
       "    .dataframe tbody tr th:only-of-type {\n",
       "        vertical-align: middle;\n",
       "    }\n",
       "\n",
       "    .dataframe tbody tr th {\n",
       "        vertical-align: top;\n",
       "    }\n",
       "\n",
       "    .dataframe thead th {\n",
       "        text-align: right;\n",
       "    }\n",
       "</style>\n",
       "<table border=\"1\" class=\"dataframe\">\n",
       "  <thead>\n",
       "    <tr style=\"text-align: right;\">\n",
       "      <th></th>\n",
       "      <th>name</th>\n",
       "      <th>online_order</th>\n",
       "      <th>book_table</th>\n",
       "      <th>rate</th>\n",
       "      <th>votes</th>\n",
       "      <th>approx_cost(for two people)</th>\n",
       "      <th>listed_in(type)</th>\n",
       "    </tr>\n",
       "  </thead>\n",
       "  <tbody>\n",
       "    <tr>\n",
       "      <th>0</th>\n",
       "      <td>Jalsa</td>\n",
       "      <td>Yes</td>\n",
       "      <td>Yes</td>\n",
       "      <td>4.1</td>\n",
       "      <td>775</td>\n",
       "      <td>800</td>\n",
       "      <td>Buffet</td>\n",
       "    </tr>\n",
       "    <tr>\n",
       "      <th>1</th>\n",
       "      <td>Spice Elephant</td>\n",
       "      <td>Yes</td>\n",
       "      <td>No</td>\n",
       "      <td>4.1</td>\n",
       "      <td>787</td>\n",
       "      <td>800</td>\n",
       "      <td>Buffet</td>\n",
       "    </tr>\n",
       "    <tr>\n",
       "      <th>2</th>\n",
       "      <td>San Churro Cafe</td>\n",
       "      <td>Yes</td>\n",
       "      <td>No</td>\n",
       "      <td>3.8</td>\n",
       "      <td>918</td>\n",
       "      <td>800</td>\n",
       "      <td>Buffet</td>\n",
       "    </tr>\n",
       "    <tr>\n",
       "      <th>3</th>\n",
       "      <td>Addhuri Udupi Bhojana</td>\n",
       "      <td>No</td>\n",
       "      <td>No</td>\n",
       "      <td>3.7</td>\n",
       "      <td>88</td>\n",
       "      <td>300</td>\n",
       "      <td>Buffet</td>\n",
       "    </tr>\n",
       "    <tr>\n",
       "      <th>4</th>\n",
       "      <td>Grand Village</td>\n",
       "      <td>No</td>\n",
       "      <td>No</td>\n",
       "      <td>3.8</td>\n",
       "      <td>166</td>\n",
       "      <td>600</td>\n",
       "      <td>Buffet</td>\n",
       "    </tr>\n",
       "  </tbody>\n",
       "</table>\n",
       "</div>"
      ],
      "text/plain": [
       "                    name online_order book_table  rate  votes  \\\n",
       "0                  Jalsa          Yes        Yes   4.1    775   \n",
       "1         Spice Elephant          Yes         No   4.1    787   \n",
       "2        San Churro Cafe          Yes         No   3.8    918   \n",
       "3  Addhuri Udupi Bhojana           No         No   3.7     88   \n",
       "4          Grand Village           No         No   3.8    166   \n",
       "\n",
       "   approx_cost(for two people) listed_in(type)  \n",
       "0                          800          Buffet  \n",
       "1                          800          Buffet  \n",
       "2                          800          Buffet  \n",
       "3                          300          Buffet  \n",
       "4                          600          Buffet  "
      ]
     },
     "execution_count": 30,
     "metadata": {},
     "output_type": "execute_result"
    }
   ],
   "source": [
    "dataframe.head()"
   ]
  },
  {
   "cell_type": "code",
   "execution_count": 40,
   "id": "45243c75-3b3a-4956-a28b-b82e9f843285",
   "metadata": {},
   "outputs": [
    {
     "data": {
      "text/plain": [
       "<function matplotlib.pyplot.show(close=None, block=None)>"
      ]
     },
     "execution_count": 40,
     "metadata": {},
     "output_type": "execute_result"
    },
    {
     "data": {
      "image/png": "[encoded data removed]",
      "text/plain": [
       "<Figure size 640x480 with 2 Axes>"
      ]
     },
     "metadata": {},
     "output_type": "display_data"
    }
   ],
   "source": [
    "pivot_table = dataframe.pivot_table(index='listed_in(type)', columns= 'online_order', aggfunc='size', fill_value= 0)\n",
    "sns.heatmap(pivot_table, annot=True)\n",
    "plt.title(\"Heatmap\")\n",
    "plt.xlabel(\"Online Order\")\n",
    "plt.ylabel(\"Listed in (Type)\")\n",
    "plt.show"
   ]
  },
  {
   "cell_type": "raw",
   "id": "bd767eef-3281-425e-950d-f0fe01fb2f4c",
   "metadata": {},
   "source": [
    "CONCLUSION:\n",
    "           DINING RESTAURANTS PRIMARYLY ACCEPT OFFLINE ORDERS, WHEREAS CAFES PRIMARYLY RECEIVE ONLINE ORDERS. \n",
    "           THIS SUGGEST THAT CLIENTS PREFFER ORDERS  IN PERSON AT RESTAURANTS BUT PREFER ONLINE ORDERING AT ACFES."
   ]
  }
 ],
 "metadata": {
  "kernelspec": {
   "display_name": "Python 3 (ipykernel)",
   "language": "python",
   "name": "python3"
  },
  "language_info": {
   "codemirror_mode": {
    "name": "ipython",
    "version": 3
   },
   "file_extension": ".py",
   "mimetype": "text/x-python",
   "name": "python",
   "nbconvert_exporter": "python",
   "pygments_lexer": "ipython3",
   "version": "3.12.4"
  }
 },
 "nbformat": 4,
 "nbformat_minor": 5
}
